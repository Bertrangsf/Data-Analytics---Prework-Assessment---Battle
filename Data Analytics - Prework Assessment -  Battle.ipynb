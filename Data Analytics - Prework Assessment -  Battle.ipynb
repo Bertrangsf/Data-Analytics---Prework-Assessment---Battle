{
 "cells": [
  {
   "cell_type": "markdown",
   "metadata": {},
   "source": [
    "### Which sorcerer won the battle. Gandalf or Saruman"
   ]
  },
  {
   "cell_type": "code",
   "execution_count": 1,
   "metadata": {},
   "outputs": [
    {
     "name": "stdout",
     "output_type": "stream",
     "text": [
      "[50, 40, 40, 10, 50, 10, 40, 50, 50, 50]\n",
      "[45, 45, 25, 50, 25, 40, 10, 45, 10, 10]\n",
      "Gandalf wins\n"
     ]
    }
   ],
   "source": [
    "POWER = {'Fireball': 50,'Lightning bolt': 40,'Magic arrow': 10,'Black Tentacles': 25,'Contagion': 45}\n",
    "gandalf = ['Fireball', 'Lightning bolt', 'Lightning bolt', 'Magic arrow', 'Fireball','Magic arrow', 'Lightning bolt', 'Fireball', 'Fireball', 'Fireball']\n",
    "saruman = ['Contagion', 'Contagion', 'Black Tentacles', 'Fireball', 'Black Tentacles','Lightning bolt', 'Magic arrow', 'Contagion', 'Magic arrow', 'Magic arrow']\n",
    "\n",
    "gandalf_power_values = []\n",
    "saruman_power_values = []\n",
    "\n",
    "gandalf_wins = 0\n",
    "saruman_wins = 0\n",
    "\n",
    "for i in gandalf:\n",
    "    if i=='Fireball':\n",
    "        i = POWER['Fireball']\n",
    "        gandalf_power_values.append(i)\n",
    "    elif i=='Lightning bolt':\n",
    "        i = POWER['Lightning bolt']\n",
    "        gandalf_power_values.append(i)\n",
    "    elif i=='Magic arrow':\n",
    "        i = POWER['Magic arrow']\n",
    "        gandalf_power_values.append(i)\n",
    "    elif i=='Black Tentacles':\n",
    "        i = POWER['Black Tentacles']\n",
    "        gandalf_power_values.append(i)\n",
    "    elif i=='Contagion':\n",
    "        i = POWER['Contagion']\n",
    "        gandalf_power_values.append(i)\n",
    "    elif gandalf[i]<saruman[i]:\n",
    "        saruman_wins +=1\n",
    "\n",
    "print(gandalf_power_values)\n",
    "\n",
    "for j in saruman:\n",
    "    if j=='Fireball':\n",
    "        j= POWER['Fireball']\n",
    "        saruman_power_values.append(j)\n",
    "    elif j=='Lightning bolt':\n",
    "        j = POWER['Lightning bolt']\n",
    "        saruman_power_values.append(j)\n",
    "    elif j=='Magic arrow':\n",
    "        j = POWER['Magic arrow']\n",
    "        saruman_power_values.append(j)\n",
    "    elif j=='Black Tentacles':\n",
    "        j = POWER['Black Tentacles']\n",
    "        saruman_power_values.append(j)\n",
    "    elif j=='Contagion':\n",
    "        j = POWER['Contagion']\n",
    "        saruman_power_values.append(j)\n",
    "    elif gandalf[i]<saruman[j]:\n",
    "        saruman_wins +=1\n",
    "\n",
    "print(saruman_power_values)\n",
    "\n",
    "for i in range(0,len(gandalf_power_values)):\n",
    "    if gandalf_power_values[i]+3>saruman_power_values[i]+3:\n",
    "        gandalf_wins +=1\n",
    "    elif gandalf_power_values[i]+3<saruman_power_values[i]+3:\n",
    "        saruman_wins +=1\n",
    "\n",
    "if gandalf_wins<saruman_wins:\n",
    "    print(\"Saruman wins\")\n",
    "elif gandalf_wins>saruman_wins:\n",
    "    print(\"Gandalf wins\")\n",
    "else:\n",
    "    print(\"Tie\")"
   ]
  },
  {
   "cell_type": "markdown",
   "metadata": {},
   "source": [
    "### Average of the spells in the lists. Round off your result to one decimal place"
   ]
  },
  {
   "cell_type": "code",
   "execution_count": 2,
   "metadata": {},
   "outputs": [
    {
     "name": "stdout",
     "output_type": "stream",
     "text": [
      "The average power values of gandal is 39.0 and the average power value of saruman is 30.5\n"
     ]
    }
   ],
   "source": [
    "avg_gandalf_power_values = (sum(gandalf_power_values))/(len(gandalf_power_values))\n",
    "avg_saruman_power_values = (sum(saruman_power_values))/(len(saruman_power_values))\n",
    "print(\"The average power values of gandal is\",avg_gandalf_power_values, \"and the average power value of saruman is\",avg_saruman_power_values)"
   ]
  },
  {
   "cell_type": "markdown",
   "metadata": {},
   "source": [
    "### Standard deviation of the spells in the lists"
   ]
  },
  {
   "cell_type": "code",
   "execution_count": 3,
   "metadata": {},
   "outputs": [
    {
     "name": "stdout",
     "output_type": "stream",
     "text": [
      "The Standard Deviation of spells in gandalf power values list is 15.95\n",
      "The Standard Deviation of spells in saruman power values list is 16.41\n"
     ]
    }
   ],
   "source": [
    "import statistics as stats\n",
    "import numpy as np\n",
    "\n",
    "standart_gandalf_deviation = stats.stdev(gandalf_power_values)\n",
    "standart_saruman_deviation = stats.stdev(saruman_power_values)\n",
    "print (\"The Standard Deviation of spells in gandalf power values list is\",np.round(standart_gandalf_deviation,2))\n",
    "print (\"The Standard Deviation of spells in saruman power values list is\",np.round(standart_saruman_deviation,2))"
   ]
  },
  {
   "cell_type": "code",
   "execution_count": null,
   "metadata": {},
   "outputs": [],
   "source": []
  }
 ],
 "metadata": {
  "kernelspec": {
   "display_name": "Python 3",
   "language": "python",
   "name": "python3"
  },
  "language_info": {
   "codemirror_mode": {
    "name": "ipython",
    "version": 3
   },
   "file_extension": ".py",
   "mimetype": "text/x-python",
   "name": "python",
   "nbconvert_exporter": "python",
   "pygments_lexer": "ipython3",
   "version": "3.8.5"
  }
 },
 "nbformat": 4,
 "nbformat_minor": 4
}
